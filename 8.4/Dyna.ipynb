{
 "cells": [
  {
   "cell_type": "code",
   "execution_count": 1,
   "metadata": {},
   "outputs": [],
   "source": [
    "from enum import Enum\n",
    "import random\n",
    "import math\n",
    "from matplotlib import pyplot as plt"
   ]
  },
  {
   "cell_type": "code",
   "execution_count": 2,
   "metadata": {},
   "outputs": [],
   "source": [
    "class Action(Enum):\n",
    "    UP = 1\n",
    "    RIGHT = 2\n",
    "    DOWN = 3\n",
    "    LEFT = 4"
   ]
  },
  {
   "cell_type": "code",
   "execution_count": 114,
   "metadata": {},
   "outputs": [
    {
     "data": {
      "text/plain": [
       "'aaaa'"
      ]
     },
     "execution_count": 114,
     "metadata": {},
     "output_type": "execute_result"
    }
   ],
   "source": [
    "'a'*4"
   ]
  },
  {
   "cell_type": "code",
   "execution_count": 139,
   "metadata": {},
   "outputs": [],
   "source": [
    "class Grid:\n",
    "    def __init__(self, num_rows, num_cols, change_time):\n",
    "        self.num_rows = num_rows\n",
    "        self.num_cols = num_cols\n",
    "        self.change_time = change_time\n",
    "        self.start = (num_rows - 1, num_cols - 6)\n",
    "        self.goal = (0, num_cols - 1)\n",
    "        self.blocked = set((3, i) for i in range(1, num_cols))\n",
    "        self.state = self.start\n",
    "        self.time = 0\n",
    "    \n",
    "    def __str__(self):\n",
    "        grid = [['O'] * self.num_cols for _ in range(self.num_rows)] \n",
    "        start_row, start_col = self.start\n",
    "        grid[start_row][start_col] = 'S'\n",
    "        goal_row, goal_col = self.goal\n",
    "        grid[goal_row][goal_col] = 'G'\n",
    "        for row, col in self.blocked:\n",
    "            grid[row][col] = 'B'\n",
    "        grid = [''.join(row) for row in grid]\n",
    "        return '\\n'.join(grid)\n",
    "        \n",
    "        \n",
    "    def take_action(self, a):\n",
    "        row, col = self.state\n",
    "        if a == Action.UP:\n",
    "            row -= 1\n",
    "        elif a == Action.DOWN:\n",
    "            row += 1\n",
    "        elif a == Action.RIGHT:\n",
    "            col += 1\n",
    "        elif a == Action.LEFT:\n",
    "            col -= 1\n",
    "        else:\n",
    "            print('Unknown action!')\n",
    "        row = min(max(0, row), self.num_rows - 1)\n",
    "        col = min(max(0, col), self.num_cols - 1)\n",
    "        if (row, col) not in self.blocked:\n",
    "            self.state = (row, col)\n",
    "        reward = 1 if self.state == self.goal else 0\n",
    "        is_terminal = reward == 1\n",
    "        self.time += 1\n",
    "        if self.time == self.change_time:\n",
    "            self.blocked.remove((3, num_cols - 1))\n",
    "        return is_terminal, reward, self.state\n",
    "    \n",
    "    def reset(self):\n",
    "        self.state = self.start"
   ]
  },
  {
   "cell_type": "code",
   "execution_count": 234,
   "metadata": {},
   "outputs": [],
   "source": [
    "class DynaQPlus:\n",
    "    def __init__(self, n, exploration_bonus, num_rows, num_cols,\n",
    "                 epsilon=0.1, alpha=0.1, gamma=0.95):\n",
    "        self.n = n\n",
    "        self.exploration_bonus = exploration_bonus\n",
    "        self.states = [(row, col) for row in range(num_rows)\n",
    "                       for col in range(num_cols)]\n",
    "        state_action_pairs = [(state, action) for state in self.states\n",
    "                              for action in list(Action)]\n",
    "        self.action_values = {(state, action): 0\n",
    "                              for state, action in state_action_pairs}\n",
    "        self.model = {(state, action): (0, state)\n",
    "                              for state, action in state_action_pairs}\n",
    "        self.last_tried = {(state, action): 0\n",
    "                          for state, action in state_action_pairs}\n",
    "        self.epsilon = epsilon\n",
    "        self.alpha = alpha\n",
    "        self.gamma = gamma\n",
    "        self.time = 0\n",
    "        \n",
    "    def choose_action(self, state):\n",
    "        self.time += 1\n",
    "        if random.random() < self.epsilon:\n",
    "            action = random.choice(list(Action))\n",
    "        else:\n",
    "            action = max(list(Action),\n",
    "                       key=lambda a: self.action_values[(state, a)])\n",
    "        self.last_tried[(state, action)] = self.time\n",
    "        return action\n",
    "        \n",
    "    def update_action_value(self, old_state, action, reward, new_state):\n",
    "        self.action_values[(old_state, action)] += self.alpha * (\n",
    "            reward + self.gamma * max(\n",
    "                self.action_values[(new_state, a)] for a in list(Action))\n",
    "        - self.action_values[(old_state, action)])\n",
    "        \n",
    "        \n",
    "    def update_model(self, old_state, action, reward, new_state):\n",
    "        self.model[(old_state, action)] = (reward, new_state)\n",
    "    \n",
    "    def plan(self):\n",
    "        for _ in range(self.n):\n",
    "            state = random.choice(self.states)\n",
    "            action = random.choice(list(Action))\n",
    "            reward, new_state = self.model[(state, action)]\n",
    "            elapsed_time = (self.time\n",
    "                            - self.last_tried[(new_state), action])\n",
    "#             print('a')\n",
    "#             print(reward)\n",
    "            reward += self.exploration_bonus * math.sqrt(elapsed_time)\n",
    "#             print(reward)\n",
    "            self.update_action_value(state, action, reward, new_state)"
   ]
  },
  {
   "cell_type": "code",
   "execution_count": 235,
   "metadata": {},
   "outputs": [],
   "source": [
    "def play(time_steps):\n",
    "    num_rows = 6\n",
    "    num_cols = 9\n",
    "    grid = Grid(num_rows=num_rows, num_cols=num_cols, change_time=3000)\n",
    "    agent = DynaQPlus(n=50,\n",
    "                      exploration_bonus=0.1,\n",
    "                      num_rows=num_rows,\n",
    "                      num_cols=num_cols)\n",
    "    cum_rewards = []\n",
    "    cum_reward = 0\n",
    "    state = grid.state\n",
    "    for _ in range(time_steps):\n",
    "        action = agent.choose_action(state)\n",
    "        is_terminal, reward, new_state = grid.take_action(action)\n",
    "        agent.update_action_value(state, action, reward, new_state)\n",
    "        agent.update_model(state, action, reward, new_state)\n",
    "        agent.plan()\n",
    "        if is_terminal:\n",
    "            grid.reset()\n",
    "        state = grid.state\n",
    "        cum_reward += reward\n",
    "        cum_rewards.append(cum_reward)\n",
    "    return cum_rewards"
   ]
  },
  {
   "cell_type": "code",
   "execution_count": 239,
   "metadata": {
    "scrolled": false
   },
   "outputs": [
    {
     "data": {
      "text/plain": [
       "[<matplotlib.lines.Line2D at 0x7ff947d62a90>]"
      ]
     },
     "execution_count": 239,
     "metadata": {},
     "output_type": "execute_result"
    },
    {
     "data": {
      "image/png": "[encoded data removed]",
      "text/plain": [
       "<Figure size 432x288 with 1 Axes>"
      ]
     },
     "metadata": {
      "needs_background": "light"
     },
     "output_type": "display_data"
    }
   ],
   "source": [
    "res = play(6000)\n",
    "plt.plot(res)"
   ]
  }
 ],
 "metadata": {
  "kernelspec": {
   "display_name": "Python 3",
   "language": "python",
   "name": "python3"
  },
  "language_info": {
   "codemirror_mode": {
    "name": "ipython",
    "version": 3
   },
   "file_extension": ".py",
   "mimetype": "text/x-python",
   "name": "python",
   "nbconvert_exporter": "python",
   "pygments_lexer": "ipython3",
   "version": "3.7.6"
  }
 },
 "nbformat": 4,
 "nbformat_minor": 4
}
