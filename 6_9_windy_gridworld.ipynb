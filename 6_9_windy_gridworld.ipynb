{
 "cells": [
  {
   "cell_type": "code",
   "execution_count": 1,
   "metadata": {},
   "outputs": [],
   "source": [
    "import random\n",
    "from matplotlib import pyplot as plt"
   ]
  },
  {
   "cell_type": "code",
   "execution_count": 2,
   "metadata": {},
   "outputs": [],
   "source": [
    "class Environment:\n",
    "    def __init__(self):\n",
    "        self.start = (3, 0)\n",
    "        self.goal = (3, 7)\n",
    "        self.num_rows = 7\n",
    "        self.wind = [0, 0, 0, 1, 1, 1, 2, 2, 1, 0]\n",
    "        self.num_cols = len(self.wind)\n",
    "        self.reset()\n",
    "    \n",
    "    def reset(self):\n",
    "        self.pos = self.start\n",
    "    \n",
    "    def take_action(self, action):\n",
    "        row = self.pos[0]\n",
    "        col = self.pos[1]\n",
    "        row += action[0] + self.wind[col]\n",
    "        row = max(0, min(row, self.num_rows - 1))\n",
    "        col += action[1]\n",
    "        col = max(0, min(col, self.num_cols - 1))\n",
    "        self.pos = (row, col)\n",
    "        if self.pos == self.goal:\n",
    "            return 0, self.pos\n",
    "        else:\n",
    "            return -1, self.pos\n",
    "    \n",
    "    def get_states(self):\n",
    "        return ((row, col) for row in range(self.num_rows)\n",
    "                for col in range(self.num_cols))\n",
    "        "
   ]
  },
  {
   "cell_type": "code",
   "execution_count": 3,
   "metadata": {},
   "outputs": [],
   "source": [
    "class TDAgent:\n",
    "    def __init__(self, states, must_move):\n",
    "        self.epsilon = 0.1\n",
    "        self.alpha = 0.5\n",
    "        if must_move:\n",
    "            self.actions = [(i, j) for i in [1, 0, -1] for j in [1, 0, -1] if not i == 0 == j]\n",
    "        else:\n",
    "            self.actions = [(i, j) for i in [1, 0, -1] for j in [1, 0, -1]]\n",
    "        self.estimates = {(s, a):0 for s in states for a in self.actions}\n",
    "    \n",
    "    def choose_action(self, state, soft=True):\n",
    "        if soft and random.random() < self.epsilon:\n",
    "            return random.choice(self.actions)\n",
    "        else:\n",
    "            return max(self.actions, key=lambda a: self.estimates[(state, a)])\n",
    "    \n",
    "    def update(self, s, a, r, s2, a2):\n",
    "        self.estimates[(s, a)] += self.alpha * (\n",
    "            r + self.estimates[(s2, a2)] - self.estimates[(s, a)])  "
   ]
  },
  {
   "cell_type": "code",
   "execution_count": 4,
   "metadata": {},
   "outputs": [],
   "source": [
    "def train(env, agent, time_steps):\n",
    "    env.reset()\n",
    "    s = env.start\n",
    "    a = agent.choose_action(s)\n",
    "    num_episodes = 0\n",
    "    res = []\n",
    "    for t in range(8000):\n",
    "        r, s2 = env.take_action(a)\n",
    "        a2 = agent.choose_action(s2)\n",
    "        agent.update(s, a, r, s2, a2)\n",
    "        if r == 0:\n",
    "            num_episodes += 1\n",
    "            env.reset()\n",
    "            s = env.start\n",
    "            a = agent.choose_action(s)\n",
    "        else:\n",
    "            s = s2\n",
    "            a = a2\n",
    "        res.append(num_episodes)\n",
    "    return res"
   ]
  },
  {
   "cell_type": "code",
   "execution_count": 5,
   "metadata": {},
   "outputs": [],
   "source": [
    "def get_trajectory(env, agent):\n",
    "    env.reset()\n",
    "    s = env.start\n",
    "    states = [s]\n",
    "    a = agent.choose_action(s, False)\n",
    "    r = -1\n",
    "    while r != 0:\n",
    "        r, s2 = env.take_action(a)\n",
    "        a2 = agent.choose_action(s2, False)\n",
    "        s = s2\n",
    "        a = a2\n",
    "        states.append(s)\n",
    "    grid = [['O' for _ in range(env.num_cols)] for _ in range(env.num_rows)]\n",
    "    for r, c in states:\n",
    "        grid[-r - 1][c] = 'X'\n",
    "    print(states)\n",
    "    print('\\n'.join([''.join(row) for row in grid]))\n"
   ]
  },
  {
   "cell_type": "code",
   "execution_count": 6,
   "metadata": {
    "scrolled": true
   },
   "outputs": [
    {
     "name": "stdout",
     "output_type": "stream",
     "text": [
      "[(3, 0), (2, 0), (2, 1), (1, 2), (0, 3), (1, 4), (1, 5), (2, 6), (3, 7)]\n",
      "OOOOOOOOOO\n",
      "OOOOOOOOOO\n",
      "OOOOOOOOOO\n",
      "XOOOOOOXOO\n",
      "XXOOOOXOOO\n",
      "OOXOXXOOOO\n",
      "OOOXOOOOOO\n",
      "CPU times: user 49.5 ms, sys: 119 µs, total: 49.7 ms\n",
      "Wall time: 48.3 ms\n"
     ]
    }
   ],
   "source": [
    "%%time\n",
    "env = Environment()\n",
    "agent = TDAgent(env.get_states(), True)\n",
    "res = train(env, agent, 8000)\n",
    "trajectory = get_trajectory(env, agent)"
   ]
  },
  {
   "cell_type": "code",
   "execution_count": 7,
   "metadata": {},
   "outputs": [
    {
     "data": {
      "image/png": "[encoded data removed]",
      "text/plain": [
       "<Figure size 432x288 with 1 Axes>"
      ]
     },
     "metadata": {
      "needs_background": "light"
     },
     "output_type": "display_data"
    }
   ],
   "source": [
    "plt.plot(res)\n",
    "plt.xlabel('time steps')\n",
    "plt.ylabel('episodes')\n",
    "plt.title('must move')\n",
    "plt.savefig('6.9/must_move_plot.png')"
   ]
  },
  {
   "cell_type": "code",
   "execution_count": 10,
   "metadata": {
    "scrolled": true
   },
   "outputs": [
    {
     "name": "stdout",
     "output_type": "stream",
     "text": [
      "[(3, 0), (2, 1), (1, 2), (0, 3), (0, 4), (1, 5), (1, 6), (3, 7)]\n",
      "OOOOOOOOOO\n",
      "OOOOOOOOOO\n",
      "OOOOOOOOOO\n",
      "XOOOOOOXOO\n",
      "OXOOOOOOOO\n",
      "OOXOOXXOOO\n",
      "OOOXXOOOOO\n",
      "CPU times: user 47.3 ms, sys: 0 ns, total: 47.3 ms\n",
      "Wall time: 46.4 ms\n"
     ]
    }
   ],
   "source": [
    "%%time\n",
    "env = Environment()\n",
    "agent = TDAgent(env.get_states(), False)\n",
    "res = train(env, agent, 8000)\n",
    "trajectory = get_trajectory(env, agent)"
   ]
  },
  {
   "cell_type": "code",
   "execution_count": 11,
   "metadata": {},
   "outputs": [
    {
     "data": {
      "image/png": "[encoded data removed]",
      "text/plain": [
       "<Figure size 432x288 with 1 Axes>"
      ]
     },
     "metadata": {
      "needs_background": "light"
     },
     "output_type": "display_data"
    }
   ],
   "source": [
    "plt.plot(res)\n",
    "plt.xlabel('time steps')\n",
    "plt.ylabel('episodes')\n",
    "plt.title('allow no movement')\n",
    "plt.savefig('6.9/no_movement_plot.png')"
   ]
  }
 ],
 "metadata": {
  "kernelspec": {
   "display_name": "Python 3",
   "language": "python",
   "name": "python3"
  },
  "language_info": {
   "codemirror_mode": {
    "name": "ipython",
    "version": 3
   },
   "file_extension": ".py",
   "mimetype": "text/x-python",
   "name": "python",
   "nbconvert_exporter": "python",
   "pygments_lexer": "ipython3",
   "version": "3.7.6"
  }
 },
 "nbformat": 4,
 "nbformat_minor": 4
}
