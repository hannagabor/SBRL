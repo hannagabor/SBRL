{
 "cells": [
  {
   "cell_type": "code",
   "execution_count": 2,
   "metadata": {},
   "outputs": [],
   "source": [
    "import numpy as np"
   ]
  },
  {
   "cell_type": "code",
   "execution_count": null,
   "metadata": {},
   "outputs": [],
   "source": [
    "NUM_ARMS = 10"
   ]
  },
  {
   "cell_type": "code",
   "execution_count": 26,
   "metadata": {},
   "outputs": [],
   "source": [
    "class Arm:\n",
    "    def __init__(self):\n",
    "        self.mean = 0\n",
    "        self.variance = 1\n",
    "    def get_reward(self):\n",
    "        return np.random.normal(self.mean, self.variance, 1)\n",
    "    def change_mean(self):\n",
    "        change = np.random.normal(0, 0.01, 1)\n",
    "        self.mean += change\n",
    "        print(self.mean)"
   ]
  },
  {
   "cell_type": "code",
   "execution_count": null,
   "metadata": {},
   "outputs": [],
   "source": [
    "class GreedyPlayer:\n",
    "    def __init__(self):\n",
    "        self.estimations = [5 for _ in range(NUM_ARMS)]\n",
    "        self.sum_rewards = 0 # sum of rewards after step 100000\n",
    "        self.step = 0\n",
    "        self.name = \"optimistic greedy\"\n",
    "    def choose(self):\n",
    "        m = max(self.estimations)\n",
    "        return self.estimations.index(m)\n",
    "    def update_inner_state(self, chosen_arm, reward):\n",
    "        self.step += 1\n",
    "        self.sum_rewards += reward\n",
    "        self.estimations[chosen_arm] += self.alpa * (reward - self.estimations[chosen_arm]);"
   ]
  },
  {
   "cell_type": "code",
   "execution_count": 50,
   "metadata": {},
   "outputs": [
    {
     "data": {
      "text/plain": [
       "2"
      ]
     },
     "execution_count": 50,
     "metadata": {},
     "output_type": "execute_result"
    }
   ],
   "source": [
    "[1,2,3].index(3)"
   ]
  },
  {
   "cell_type": "code",
   "execution_count": 27,
   "metadata": {},
   "outputs": [],
   "source": [
    "a = Arm()"
   ]
  },
  {
   "cell_type": "code",
   "execution_count": 46,
   "metadata": {},
   "outputs": [
    {
     "data": {
      "text/plain": [
       "array([-0.21120377])"
      ]
     },
     "execution_count": 46,
     "metadata": {},
     "output_type": "execute_result"
    }
   ],
   "source": [
    "a.get_reward()"
   ]
  },
  {
   "cell_type": "code",
   "execution_count": 47,
   "metadata": {},
   "outputs": [
    {
     "name": "stdout",
     "output_type": "stream",
     "text": [
      "[-0.04610244]\n"
     ]
    }
   ],
   "source": [
    "a.change_mean()"
   ]
  },
  {
   "cell_type": "code",
   "execution_count": null,
   "metadata": {},
   "outputs": [],
   "source": []
  }
 ],
 "metadata": {
  "kernelspec": {
   "display_name": "Python 3",
   "language": "python",
   "name": "python3"
  },
  "language_info": {
   "codemirror_mode": {
    "name": "ipython",
    "version": 3
   },
   "file_extension": ".py",
   "mimetype": "text/x-python",
   "name": "python",
   "nbconvert_exporter": "python",
   "pygments_lexer": "ipython3",
   "version": "3.7.5"
  }
 },
 "nbformat": 4,
 "nbformat_minor": 4
}
