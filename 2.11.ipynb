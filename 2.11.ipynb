{
 "cells": [
  {
   "cell_type": "code",
   "execution_count": 1,
   "metadata": {
    "collapsed": true,
    "deletable": true,
    "editable": true
   },
   "outputs": [],
   "source": [
    "from collections import defaultdict\n",
    "import math\n",
    "import matplotlib.pyplot as plt\n",
    "import numpy as np"
   ]
  },
  {
   "cell_type": "code",
   "execution_count": 2,
   "metadata": {
    "collapsed": false,
    "deletable": true,
    "editable": true
   },
   "outputs": [],
   "source": [
    "NUM_ARMS = 10\n",
    "STEPS = 2000\n",
    "NUM_RUNS = 2"
   ]
  },
  {
   "cell_type": "code",
   "execution_count": 3,
   "metadata": {
    "collapsed": true,
    "deletable": true,
    "editable": true
   },
   "outputs": [],
   "source": [
    "class Arm:\n",
    "    def __init__(self):\n",
    "        self.mean = 0\n",
    "        self.variance = 1\n",
    "    def get_reward(self):\n",
    "        return np.random.normal(self.mean, self.variance, 1)[0]\n",
    "    def change_mean(self):\n",
    "        change = np.random.normal(0, 0.01, 1)\n",
    "        self.mean += change"
   ]
  },
  {
   "cell_type": "code",
   "execution_count": 4,
   "metadata": {
    "collapsed": true,
    "deletable": true,
    "editable": true
   },
   "outputs": [],
   "source": [
    "class GreedyPlayer:\n",
    "    def __init__(self, init_value):\n",
    "        self.param = init_value\n",
    "        self.estimations = [init_value for _ in range(NUM_ARMS)]\n",
    "        self.sum_rewards = 0 # Sum of rewards in the last half.\n",
    "        self.step = 0\n",
    "        self.alpha = 0.1\n",
    "        self.name = \"optimistic greedy\"\n",
    "    def choose(self):\n",
    "        m = max(self.estimations)\n",
    "        self.chosen = self.estimations.index(m)\n",
    "        return self.chosen\n",
    "    def update_inner_state(self, reward):\n",
    "        self.step += 1\n",
    "        if self.step > STEPS / 2:\n",
    "            self.sum_rewards += reward\n",
    "        self.estimations[self.chosen] += self.alpha \\\n",
    "            * (reward - self.estimations[self.chosen])\n",
    "    def get_avg_reward(self):\n",
    "        return self.sum_rewards / (STEPS / 2)"
   ]
  },
  {
   "cell_type": "code",
   "execution_count": 5,
   "metadata": {
    "collapsed": true
   },
   "outputs": [],
   "source": [
    "class EpsilonGreedyPlayer:\n",
    "    def __init__(self, epsilon):\n",
    "        self.param = epsilon\n",
    "        self.estimations = [0 for _ in range(NUM_ARMS)]\n",
    "        self.sum_rewards = 0 # Sum of rewards in the last half.\n",
    "        self.step = 0\n",
    "        self.alpha = 0.1\n",
    "        self.name = \"epsilon-greedy\"\n",
    "        self.epsilon = epsilon\n",
    "    def choose(self):\n",
    "        m = max(self.estimations)\n",
    "        rnd = np.random.uniform()\n",
    "        if rnd < self.epsilon:\n",
    "            self.chosen = np.random.choice(range(NUM_ARMS))\n",
    "        else:\n",
    "            self.chosen = self.estimations.index(m)\n",
    "        return self.chosen\n",
    "    def update_inner_state(self, reward):\n",
    "        self.step += 1\n",
    "        if self.step > STEPS / 2:\n",
    "            self.sum_rewards += reward\n",
    "        self.estimations[self.chosen] += self.alpha \\\n",
    "            * (reward - self.estimations[self.chosen])\n",
    "    def get_avg_reward(self):\n",
    "        return self.sum_rewards / (STEPS / 2)"
   ]
  },
  {
   "cell_type": "code",
   "execution_count": 23,
   "metadata": {
    "collapsed": false,
    "deletable": true,
    "editable": true
   },
   "outputs": [],
   "source": [
    "class UCBPlayer:\n",
    "    def __init__(self, c):\n",
    "        self.param = c\n",
    "        self.estimations = [0 for _ in range(NUM_ARMS)]\n",
    "        self.arm_selected = [0 for _ in range(NUM_ARMS)] # Number of times\n",
    "#         an arm was selected.\n",
    "        self.sum_rewards = 0 # Sum of rewards in the last half.\n",
    "        self.step = 0\n",
    "        self.alpha = 0.1\n",
    "        self.name = \"UCB\"\n",
    "        self.c = c\n",
    "    \n",
    "    def choose(self):\n",
    "        ucb = []\n",
    "        for a in range(NUM_ARMS):\n",
    "            if self.arm_selected[a] == 0:\n",
    "                ucb.append(1000)\n",
    "            else:\n",
    "                uncertainty = math.sqrt(math.log(self.step + 1)/self.arm_selected[a])\n",
    "                ucb.append(self.estimations[a] + self.c * uncertainty)\n",
    "        m = max(ucb)\n",
    "        self.chosen = ucb.index(m)\n",
    "        return self.chosen\n",
    "    def update_inner_state(self, reward):\n",
    "        self.step += 1\n",
    "        if self.step > STEPS / 2:\n",
    "            self.sum_rewards += reward\n",
    "        self.arm_selected[self.chosen] += 1\n",
    "        self.estimations[self.chosen] += (1.0 / self.step) \\\n",
    "        * (reward - self.estimations[self.chosen])\n",
    "    def get_avg_reward(self):\n",
    "        return self.sum_rewards / (STEPS / 2)"
   ]
  },
  {
   "cell_type": "code",
   "execution_count": 24,
   "metadata": {
    "collapsed": false,
    "deletable": true,
    "editable": true
   },
   "outputs": [],
   "source": [
    "players = (\n",
    "    [GreedyPlayer(q) for q in [2 ** i for i in range(-2, 3)]] +\n",
    "    [EpsilonGreedyPlayer(e) for e in [2 ** i for i in range(-7, -1)]] +\n",
    "    [UCBPlayer(c) for c in [2 ** i for i in range(-4, 3)]]\n",
    ")\n",
    "avg_rewards = defaultdict(lambda: defaultdict(list))"
   ]
  },
  {
   "cell_type": "code",
   "execution_count": 25,
   "metadata": {
    "collapsed": false,
    "deletable": true,
    "editable": true
   },
   "outputs": [
    {
     "name": "stdout",
     "output_type": "stream",
     "text": [
      "CPU times: user 636 ms, sys: 2.07 ms, total: 638 ms\n",
      "Wall time: 635 ms\n"
     ]
    }
   ],
   "source": [
    "%%time\n",
    "for player in players:\n",
    "    sum_avg_reward = 0\n",
    "    for _ in range(NUM_RUNS):\n",
    "        arms = [Arm() for _ in range(NUM_ARMS)]\n",
    "        for _ in range(STEPS):\n",
    "            a = arms[player.choose()]\n",
    "            r = a.get_reward()\n",
    "            player.update_inner_state(r)\n",
    "            a.change_mean()\n",
    "        sum_avg_reward += player.get_avg_reward()\n",
    "    avg_rewards[player.name][\"x\"].append(player.param)\n",
    "    avg_rewards[player.name][\"y\"].append(sum_avg_reward/NUM_RUNS)"
   ]
  },
  {
   "cell_type": "code",
   "execution_count": 26,
   "metadata": {
    "collapsed": false
   },
   "outputs": [
    {
     "data": {
      "image/png": "[encoded data removed]",
      "text/plain": [
       "<matplotlib.figure.Figure at 0x7f2638bb9eb8>"
      ]
     },
     "metadata": {},
     "output_type": "display_data"
    }
   ],
   "source": [
    "fig, ax = plt.subplots()\n",
    "for name, results in avg_rewards.items():\n",
    "    ax.plot(results[\"x\"], results[\"y\"], label=name)\n",
    "ax.set_xscale(\"log\", basex=2)\n",
    "plt.legend()\n",
    "plt.show()"
   ]
  },
  {
   "cell_type": "code",
   "execution_count": null,
   "metadata": {
    "collapsed": true
   },
   "outputs": [],
   "source": []
  }
 ],
 "metadata": {
  "kernelspec": {
   "display_name": "Python 3",
   "language": "python",
   "name": "python3"
  },
  "language_info": {
   "codemirror_mode": {
    "name": "ipython",
    "version": 3
   },
   "file_extension": ".py",
   "mimetype": "text/x-python",
   "name": "python",
   "nbconvert_exporter": "python",
   "pygments_lexer": "ipython3",
   "version": "3.5.4"
  }
 },
 "nbformat": 4,
 "nbformat_minor": 4
}
