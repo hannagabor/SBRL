{
 "cells": [
  {
   "cell_type": "code",
   "execution_count": 1,
   "metadata": {
    "collapsed": true,
    "deletable": true,
    "editable": true
   },
   "outputs": [],
   "source": [
    "from collections import defaultdict\n",
    "import math\n",
    "import matplotlib.pyplot as plt\n",
    "import numpy as np"
   ]
  },
  {
   "cell_type": "code",
   "execution_count": 2,
   "metadata": {
    "collapsed": false,
    "deletable": true,
    "editable": true
   },
   "outputs": [],
   "source": [
    "NUM_ARMS = 10\n",
    "STEPS = 20\n",
    "NUM_RUNS = 1"
   ]
  },
  {
   "cell_type": "code",
   "execution_count": 3,
   "metadata": {
    "collapsed": true,
    "deletable": true,
    "editable": true
   },
   "outputs": [],
   "source": [
    "class Arm:\n",
    "    def __init__(self):\n",
    "        self.mean = 0\n",
    "        self.variance = 1\n",
    "    def get_reward(self):\n",
    "        return np.random.normal(self.mean, self.variance, 1)[0]\n",
    "    def change_mean(self):\n",
    "        change = np.random.normal(0, 0.01, 1)\n",
    "        self.mean += change\n",
    "class Player:\n",
    "    def __init__(self, param, name):\n",
    "        self.param = param\n",
    "        self.step = 0\n",
    "        self.name = name\n",
    "        self.sum_rewards = 0 # Sum of rewards in the last half.\n",
    "    def get_avg_reward(self):\n",
    "        return self.sum_rewards / (STEPS / 2)"
   ]
  },
  {
   "cell_type": "code",
   "execution_count": 4,
   "metadata": {
    "collapsed": true,
    "deletable": true,
    "editable": true
   },
   "outputs": [],
   "source": [
    "class GreedyPlayer(Player):\n",
    "    def __init__(self, init_value):\n",
    "        self.estimations = [init_value for _ in range(NUM_ARMS)]\n",
    "        self.alpha = 0.1\n",
    "        Player.__init__(self, init_value, \"optimistic greedy\")\n",
    "    def choose(self):\n",
    "        m = max(self.estimations)\n",
    "        self.chosen = self.estimations.index(m)\n",
    "        return self.chosen\n",
    "    def update_inner_state(self, reward):\n",
    "        self.step += 1\n",
    "        if self.step > STEPS / 2:\n",
    "            self.sum_rewards += reward\n",
    "        self.estimations[self.chosen] += self.alpha \\\n",
    "            * (reward - self.estimations[self.chosen])"
   ]
  },
  {
   "cell_type": "code",
   "execution_count": 5,
   "metadata": {
    "collapsed": true,
    "deletable": true,
    "editable": true
   },
   "outputs": [],
   "source": [
    "class EpsilonGreedyPlayer(Player):\n",
    "    def __init__(self, epsilon):\n",
    "        self.estimations = [0 for _ in range(NUM_ARMS)]\n",
    "        self.alpha = 0.1\n",
    "        self.epsilon = epsilon\n",
    "        Player.__init__(self, epsilon, \"epsilon-greedy\")        \n",
    "    def choose(self):\n",
    "        m = max(self.estimations)\n",
    "        rnd = np.random.uniform()\n",
    "        if rnd < self.epsilon:\n",
    "            self.chosen = np.random.choice(range(NUM_ARMS))\n",
    "        else:\n",
    "            self.chosen = self.estimations.index(m)\n",
    "        return self.chosen\n",
    "    def update_inner_state(self, reward):\n",
    "        self.step += 1\n",
    "        if self.step > STEPS / 2:\n",
    "            self.sum_rewards += reward\n",
    "        self.estimations[self.chosen] += self.alpha \\"
   ]
  },
  {
   "cell_type": "code",
   "execution_count": 6,
   "metadata": {
    "collapsed": false,
    "deletable": true,
    "editable": true
   },
   "outputs": [],
   "source": [
    "class UCBPlayer(Player):\n",
    "    def __init__(self, c):\n",
    "        self.estimations = [0 for _ in range(NUM_ARMS)]\n",
    "        self.arm_selected = [0 for _ in range(NUM_ARMS)] # Number of times\n",
    "#         an arm was selected.\n",
    "        self.c = c\n",
    "        Player.__init__(self, c, \"UCB\")    \n",
    "    def choose(self):\n",
    "        ucb = []\n",
    "        for a in range(NUM_ARMS):\n",
    "            if self.arm_selected[a] == 0:\n",
    "                ucb.append(1000)\n",
    "            else:\n",
    "                uncertainty = math.sqrt(math.log(self.step + 1)/self.arm_selected[a])\n",
    "                ucb.append(self.estimations[a] + self.c * uncertainty)\n",
    "        m = max(ucb)\n",
    "        self.chosen = ucb.index(m)\n",
    "        return self.chosen\n",
    "    def update_inner_state(self, reward):\n",
    "        self.step += 1\n",
    "        if self.step > STEPS / 2:\n",
    "            self.sum_rewards += reward\n",
    "        self.arm_selected[self.chosen] += 1\n",
    "        self.estimations[self.chosen] += (1.0 / self.step) \\\n",
    "        * (reward - self.estimations[self.chosen])"
   ]
  },
  {
   "cell_type": "code",
   "execution_count": 10,
   "metadata": {
    "collapsed": true,
    "deletable": true,
    "editable": true
   },
   "outputs": [],
   "source": [
    "class GradientBanditPlayer(Player):\n",
    "    def __init__(self, alpha):\n",
    "        self.preferences = [0 for _ in range(NUM_ARMS)]\n",
    "        self.full_sum_rewards = 0\n",
    "        self.alpha = alpha\n",
    "        Player.__init__(self, alpha, \"gradient bandit\")\n",
    "    def choose(self):\n",
    "        exps = [math.exp(pref) for pref in self.preferences]\n",
    "        sum_exps = sum(exps)\n",
    "        self.probs = [exp / sum_exps for exp in exps]\n",
    "        self.chosen = np.random.choice(10, p=self.probs)\n",
    "        return self.chosen\n",
    "    def update_inner_state(self, reward):\n",
    "        if self.step == 0:\n",
    "            avg_before = 0\n",
    "        else:\n",
    "            avg_before = self.full_sum_rewards / self.step\n",
    "        self.step += 1\n",
    "        if self.step > STEPS / 2:\n",
    "            self.sum_rewards += reward\n",
    "        self.full_sum_rewards += reward\n",
    "        for a in range(NUM_ARMS):\n",
    "            if a == self.chosen:\n",
    "                self.preferences[a] += (self.alpha *\n",
    "                                        (reward - avg_before) *\n",
    "                                        (1 - self.probs[a]))\n",
    "            else:\n",
    "                self.preferences[a] -= (self.alpha *\n",
    "                                        (reward - avg_before) *\n",
    "                                        self.probs[a])"
   ]
  },
  {
   "cell_type": "code",
   "execution_count": 11,
   "metadata": {
    "collapsed": false,
    "deletable": true,
    "editable": true
   },
   "outputs": [],
   "source": [
    "players = (\n",
    "    [GreedyPlayer(q) for q in [2 ** i for i in range(-2, 3)]] +\n",
    "    [EpsilonGreedyPlayer(e) for e in [2 ** i for i in range(-7, -1)]] +\n",
    "    [UCBPlayer(c) for c in [2 ** i for i in range(-4, 3)]] +\n",
    "    [GradientBanditPlayer(a) for a in [2 ** i for i in range(-4, 3)]]\n",
    ")\n",
    "avg_rewards = defaultdict(lambda: defaultdict(list))"
   ]
  },
  {
   "cell_type": "code",
   "execution_count": 12,
   "metadata": {
    "collapsed": false,
    "deletable": true,
    "editable": true
   },
   "outputs": [
    {
     "name": "stdout",
     "output_type": "stream",
     "text": [
      "CPU times: user 17.6 ms, sys: 1.06 ms, total: 18.7 ms\n",
      "Wall time: 17.7 ms\n"
     ]
    }
   ],
   "source": [
    "%%time\n",
    "for player in players:\n",
    "    sum_avg_reward = 0\n",
    "    for _ in range(NUM_RUNS):\n",
    "        arms = [Arm() for _ in range(NUM_ARMS)]\n",
    "        for _ in range(STEPS):\n",
    "            a = arms[player.choose()]\n",
    "            r = a.get_reward()\n",
    "            player.update_inner_state(r)\n",
    "            a.change_mean()\n",
    "        sum_avg_reward += player.get_avg_reward()\n",
    "    avg_rewards[player.name][\"x\"].append(player.param)\n",
    "    avg_rewards[player.name][\"y\"].append(sum_avg_reward/NUM_RUNS)\n",
    "    print(avg_rewards)"
   ]
  },
  {
   "cell_type": "code",
   "execution_count": 13,
   "metadata": {
    "collapsed": false,
    "deletable": true,
    "editable": true
   },
   "outputs": [
    {
     "data": {
      "image/png": "[encoded data removed]",
      "text/plain": [
       "<matplotlib.figure.Figure at 0x7f936e5309e8>"
      ]
     },
     "metadata": {},
     "output_type": "display_data"
    }
   ],
   "source": [
    "fig, ax = plt.subplots()\n",
    "for name, results in avg_rewards.items():\n",
    "    ax.plot(results[\"x\"], results[\"y\"], label=name)\n",
    "ax.set_xscale(\"log\", basex=2)\n",
    "box = ax.get_position()\n",
    "ax.set_position([box.x0, box.y0, box.width * 0.8, box.height])\n",
    "ax.legend(loc='center left', bbox_to_anchor=(1, 0.5))\n",
    "plt.savefig(\"2.11.png\")"
   ]
  },
  {
   "cell_type": "code",
   "execution_count": null,
   "metadata": {
    "collapsed": true,
    "deletable": true,
    "editable": true
   },
   "outputs": [],
   "source": []
  }
 ],
 "metadata": {
  "kernelspec": {
   "display_name": "Python 3",
   "language": "python",
   "name": "python3"
  },
  "language_info": {
   "codemirror_mode": {
    "name": "ipython",
    "version": 3
   },
   "file_extension": ".py",
   "mimetype": "text/x-python",
   "name": "python",
   "nbconvert_exporter": "python",
   "pygments_lexer": "ipython3",
   "version": "3.5.4"
  }
 },
 "nbformat": 4,
 "nbformat_minor": 4
}
