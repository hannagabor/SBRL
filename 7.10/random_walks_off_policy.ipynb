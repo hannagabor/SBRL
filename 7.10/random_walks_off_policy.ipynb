{
 "cells": [
  {
   "cell_type": "code",
   "execution_count": 1,
   "metadata": {},
   "outputs": [],
   "source": [
    "import random\n",
    "import math\n",
    "from matplotlib import pyplot as plt\n",
    "import numpy as np"
   ]
  },
  {
   "cell_type": "code",
   "execution_count": 2,
   "metadata": {},
   "outputs": [],
   "source": [
    "N = 10\n",
    "RANDOM_WALK_END = 6\n",
    "NUM_RUNS = 100\n",
    "NUM_EPISODES = 800\n",
    "PROB_OF_RIGHT = 0.6"
   ]
  },
  {
   "cell_type": "code",
   "execution_count": 3,
   "metadata": {},
   "outputs": [],
   "source": [
    "def calculate_state_values(end, prob_of_right):\n",
    "    num_states = 2 * end + 1\n",
    "    coeff_matrix = []\n",
    "    for i in range(num_states):\n",
    "        if i == 0:\n",
    "            row = [1] + [0] * (num_states - 1) + [0]\n",
    "        elif i < num_states - 1:\n",
    "            row = [0] * (i - 1) + [1 - prob_of_right, -1, prob_of_right] + [0] * (num_states - 3 - (i - 1)) + [0]\n",
    "        else:\n",
    "            row = [0] * (num_states - 1) + [1] + [1]\n",
    "        coeff_matrix.append(np.array(row))\n",
    "    # Gauss elimination\n",
    "    for row_id in range(1, num_states - 1):\n",
    "        row = coeff_matrix[row_id]\n",
    "        prev_row = coeff_matrix[row_id - 1]\n",
    "        mult = -row[row_id - 1]/prev_row[row_id - 1]\n",
    "        coeff_matrix[row_id] += mult * prev_row \n",
    "    for row_id in range(num_states - 2, 0, -1):\n",
    "        row = coeff_matrix[row_id]\n",
    "        row_below = coeff_matrix[row_id + 1]\n",
    "        mult = -row[row_id + 1]/row_below[row_id + 1]\n",
    "        coeff_matrix[row_id] += mult * row_below\n",
    "    return [row[-1]/row[i] for i, row in enumerate(coeff_matrix)][1:-1]"
   ]
  },
  {
   "cell_type": "code",
   "execution_count": 4,
   "metadata": {},
   "outputs": [],
   "source": [
    "class RandomWalk:\n",
    "    def __init__(self, end):\n",
    "        self.end = end\n",
    "        self.current = 0\n",
    "        \n",
    "    def reset(self):\n",
    "        self.current = 0\n",
    "\n",
    "    def take_action(self):\n",
    "        right = random.randint(0, 1)\n",
    "        if right:\n",
    "            action = 1\n",
    "            self.current += 1\n",
    "        else:\n",
    "            action = -1\n",
    "            self.current -= 1\n",
    "        is_terminal = False\n",
    "        r = 0\n",
    "        if abs(self.current) == abs(self.end):\n",
    "            is_terminal = True\n",
    "            if self.current > 0:\n",
    "                r = 1\n",
    "        return is_terminal, action, self.current, r"
   ]
  },
  {
   "cell_type": "code",
   "execution_count": 5,
   "metadata": {},
   "outputs": [],
   "source": [
    "class Estimator:\n",
    "    def __init__(self, random_walk, n, gamma, prob_of_right):\n",
    "        self.end = random_walk.end\n",
    "        self.num_states = random_walk.end * 2 - 1\n",
    "        self.V = [0.5 for _ in range(self.num_states)]\n",
    "        self.n = n\n",
    "        self.gamma = gamma\n",
    "        self.prob_of_right = prob_of_right\n",
    "        self.target_values = calculate_state_values(random_walk.end, prob_of_right)\n",
    "    \n",
    "    def get_prob(self, action):\n",
    "        if action == 1:\n",
    "            return self.prob_of_right\n",
    "        else:\n",
    "            return 1 - self.prob_of_right\n",
    "    \n",
    "    def get_V_idx(self, state):\n",
    "        return state + self.end - 1\n",
    "    \n",
    "    def getRMSE(self):\n",
    "        rmse = math.sqrt(\n",
    "            sum(((x - y)**2 for (x, y) in zip(self.V, self.target_values)))/self.num_states)\n",
    "        return rmse"
   ]
  },
  {
   "cell_type": "code",
   "execution_count": 6,
   "metadata": {},
   "outputs": [],
   "source": [
    "class SimpleEstimator(Estimator):\n",
    "    def __init__(self, n, alpha, random_walk, gamma, prob_of_right):\n",
    "        self.alpha = alpha\n",
    "        self.random_walk = random_walk\n",
    "        super().__init__(random_walk, n, gamma, prob_of_right)\n",
    "        \n",
    "    def learn(self, num_episodes):\n",
    "        mod = self.n + 1\n",
    "        rmses = []\n",
    "        for _ in range(num_episodes):\n",
    "            self.random_walk.reset()\n",
    "            R = [0 for _ in range(mod)]\n",
    "            states = [0 for _ in range(mod)]\n",
    "            actions = [0 for _ in range(mod)]\n",
    "            T = float('inf')\n",
    "            t = 0\n",
    "            to_update = 0\n",
    "            while to_update < T - 1:\n",
    "                if t < T:\n",
    "                    terminal, action, state, r = self.random_walk.take_action()\n",
    "                    prev_idx = t % mod\n",
    "                    actions[prev_idx] = action\n",
    "                    idx = (t + 1) % mod\n",
    "                    R[idx] = r\n",
    "                    states[idx] = state\n",
    "                    if terminal:\n",
    "                        T = t + 1\n",
    "                to_update = t - self.n + 1\n",
    "                if to_update > 0:\n",
    "                    to_update_idx = to_update % mod\n",
    "                    use_steps_until = min(to_update + self.n, T) + 1\n",
    "                    G = 0\n",
    "                    sampling_correction = 1\n",
    "                    for i in range(to_update + 1, use_steps_until):\n",
    "                        prev_idx = (i - 1) % mod\n",
    "                        a = actions[prev_idx]\n",
    "                        sampling_correction *= self.get_prob(a)/0.5\n",
    "                        next_idx = i % mod\n",
    "                        next_r = R[next_idx]\n",
    "                        G += self.gamma **(i - to_update - 1) * next_r\n",
    "                    if to_update + self.n < T:\n",
    "                        G += self.gamma ** self.n * self.V[self.get_V_idx(state)]\n",
    "                    state_to_update = self.get_V_idx(states[to_update % mod])\n",
    "                    self.V[state_to_update] += self.alpha * (sampling_correction * G - self.V[state_to_update])\n",
    "                t += 1\n",
    "            rmses.append(self.getRMSE())\n",
    "        return rmses"
   ]
  },
  {
   "cell_type": "code",
   "execution_count": 7,
   "metadata": {},
   "outputs": [],
   "source": [
    "class ControlVariateEstimator(Estimator):\n",
    "    def __init__(self, n, alpha, random_walk, gamma, prob_of_right):\n",
    "        self.alpha = alpha\n",
    "        self.random_walk = random_walk\n",
    "        super().__init__(random_walk, n, gamma, prob_of_right)\n",
    "        \n",
    "    def learn(self, num_episodes):\n",
    "        mod = self.n + 1\n",
    "        rmses = []\n",
    "        for _ in range(num_episodes):\n",
    "            self.random_walk.reset()\n",
    "            R = [0 for _ in range(mod)]\n",
    "            states = [0 for _ in range(mod)]\n",
    "            actions = [0 for _ in range(mod)]\n",
    "            T = float('inf')\n",
    "            t = 0\n",
    "            to_update = 0\n",
    "            while to_update < T - 1:\n",
    "                if t < T:\n",
    "                    terminal, action, state, r = self.random_walk.take_action()\n",
    "                    prev_idx = t % mod\n",
    "                    actions[prev_idx] = action\n",
    "                    idx = (t + 1) % mod\n",
    "                    R[idx] = r\n",
    "                    states[idx] = state\n",
    "                    if terminal:\n",
    "                        T = t + 1\n",
    "                to_update = t - self.n + 1\n",
    "                if to_update > 0:\n",
    "                    to_update_idx = to_update % mod\n",
    "                    use_steps_until = min(to_update + self.n, T)\n",
    "                    G = 0\n",
    "                    sampling_correction = 1\n",
    "                    for i in range(to_update, use_steps_until):\n",
    "                        idx = i % mod\n",
    "                        a = actions[idx]\n",
    "                        sampling_i= self.get_prob(a)/0.5\n",
    "                        state_i = self.get_V_idx(states[idx])\n",
    "                        G += (self.gamma ** (i - to_update)\n",
    "                              * sampling_correction\n",
    "                              * (1 - sampling_i) * self.V[state_i])\n",
    "                        next_idx = (i + 1) % mod\n",
    "                        next_r = R[next_idx]\n",
    "                        sampling_correction *= sampling_i\n",
    "                        G += self.gamma **(i - to_update) * sampling_correction * next_r\n",
    "                    if to_update + self.n < T:\n",
    "                        idx = (to_update + self.n) % mod\n",
    "                        a = actions[idx]\n",
    "                        state_i = self.get_V_idx(states[idx])\n",
    "                        sampling_correction *= self.get_prob(a)/0.5\n",
    "                        G += self.gamma ** self.n * sampling_correction * self.V[self.get_V_idx(state)]\n",
    "                    state_to_update = self.get_V_idx(states[to_update % mod])\n",
    "                    self.V[state_to_update] += self.alpha * (G - self.V[state_to_update])\n",
    "                t += 1\n",
    "            rmses.append(self.getRMSE())\n",
    "        return rmses"
   ]
  },
  {
   "cell_type": "code",
   "execution_count": 8,
   "metadata": {},
   "outputs": [],
   "source": [
    "def learn(cls, alpha):\n",
    "    sum_rmses = [0 for _ in range(NUM_EPISODES)]\n",
    "    for _ in range(NUM_RUNS):\n",
    "        est = cls(N, alpha, RandomWalk(RANDOM_WALK_END), 1, PROB_OF_RIGHT)\n",
    "        rmses = est.learn(NUM_EPISODES)\n",
    "        sum_rmses = map(sum, zip(sum_rmses, rmses))\n",
    "    return [rmse/NUM_RUNS for rmse in sum_rmses]"
   ]
  },
  {
   "cell_type": "code",
   "execution_count": 9,
   "metadata": {},
   "outputs": [
    {
     "data": {
      "image/png": "[encoded data removed]",
      "text/plain": [
       "<Figure size 432x288 with 1 Axes>"
      ]
     },
     "metadata": {
      "needs_background": "light"
     },
     "output_type": "display_data"
    }
   ],
   "source": [
    "a = 0.01\n",
    "control_variate_rmses = learn(ControlVariateEstimator, a)\n",
    "simple_rmses = learn(SimpleEstimator, a)\n",
    "plt.plot(simple_rmses)\n",
    "plt.plot(control_variate_rmses)\n",
    "plt.xlabel('episode')\n",
    "plt.ylabel('RMSE')\n",
    "plt.title(f'alpha = {a}')\n",
    "plt.legend(['simple', 'control-variate'], loc='upper right')\n",
    "plt.savefig(f'off_{a}.png')"
   ]
  },
  {
   "cell_type": "code",
   "execution_count": 10,
   "metadata": {},
   "outputs": [
    {
     "data": {
      "image/png": "[encoded data removed]",
      "text/plain": [
       "<Figure size 432x288 with 1 Axes>"
      ]
     },
     "metadata": {
      "needs_background": "light"
     },
     "output_type": "display_data"
    }
   ],
   "source": [
    "a = 0.005\n",
    "control_variate_rmses = learn(ControlVariateEstimator, a)\n",
    "simple_rmses = learn(SimpleEstimator, a)\n",
    "plt.plot(simple_rmses)\n",
    "plt.plot(control_variate_rmses)\n",
    "plt.xlabel('episode')\n",
    "plt.ylabel('RMSE')\n",
    "plt.title(f'alpha = {a}')\n",
    "plt.legend(['simple', 'control-variate'], loc='upper right')\n",
    "plt.savefig(f'off_{a}.png')"
   ]
  },
  {
   "cell_type": "code",
   "execution_count": 11,
   "metadata": {},
   "outputs": [
    {
     "data": {
      "text/plain": [
       "[0.3359224037394875,\n",
       " 0.5598706728991458,\n",
       " 0.7091695190055846,\n",
       " 0.8087020830765439,\n",
       " 0.875057125790517,\n",
       " 0.9192938209331655,\n",
       " 0.9487849510282643,\n",
       " 0.9684457044249969,\n",
       " 0.9815528733561518,\n",
       " 0.9902909859769219,\n",
       " 0.9961163943907687]"
      ]
     },
     "execution_count": 11,
     "metadata": {},
     "output_type": "execute_result"
    }
   ],
   "source": [
    "calculate_state_values(RANDOM_WALK_END, PROB_OF_RIGHT)"
   ]
  }
 ],
 "metadata": {
  "kernelspec": {
   "display_name": "Python 3",
   "language": "python",
   "name": "python3"
  },
  "language_info": {
   "codemirror_mode": {
    "name": "ipython",
    "version": 3
   },
   "file_extension": ".py",
   "mimetype": "text/x-python",
   "name": "python",
   "nbconvert_exporter": "python",
   "pygments_lexer": "ipython3",
   "version": "3.7.6"
  }
 },
 "nbformat": 4,
 "nbformat_minor": 4
}
